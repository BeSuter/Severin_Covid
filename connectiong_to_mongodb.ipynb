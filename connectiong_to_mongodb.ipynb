{
 "cells": [
  {
   "cell_type": "markdown",
   "metadata": {},
   "source": [
    "# Connecting\n",
    "MongoDb Compass: localhost:27017\n",
    "\n",
    "locally (keep this open!): \n",
    "```\n",
    "# optional:\n",
    "#tmux new -s sshforward\n",
    "ssh -N -L 27017:localhost:27017 dslab2020\n",
    "#ctrl-b d for detaching\n",
    "```\n",
    "\n",
    "\n",
    "\n",
    "then start jupyter notebook on your laptop\n",
    "=> Querying happens on the MongoDB\n",
    "=> Processing happens on the Laptop\n",
    "\n",
    "SSH Config\n",
    "```\n",
    "Host dslab2020\n",
    "    HostName 34.89.233.176\n",
    "    User <Your Username>\n",
    "    IdentityFile <Path to your Private SSH Key File>\n",
    "    IdentitiesOnly yes\n",
    "```"
   ]
  },
  {
   "cell_type": "code",
   "execution_count": null,
   "metadata": {},
   "outputs": [],
   "source": [
    "! pip install MongoClient"
   ]
  },
  {
   "cell_type": "code",
   "execution_count": 4,
   "metadata": {},
   "outputs": [],
   "source": [
    "from pymongo import MongoClient\n",
    "\n",
    "mongoClient = MongoClient(\"127.0.0.1\", 27017,\n",
    "                username=\"dslab2020\", password=\"twitter_forecasting_2020!\",\n",
    "                authSource=\"admin\")\n",
    "db_name = \"tweet_data\"\n",
    "db = mongoClient[db_name]"
   ]
  },
  {
   "cell_type": "code",
   "execution_count": 5,
   "metadata": {},
   "outputs": [],
   "source": [
    "db_collection = db['snp500_tweets']"
   ]
  },
  {
   "cell_type": "code",
   "execution_count": null,
   "metadata": {},
   "outputs": [],
   "source": [
    "db_collection.find_one()"
   ]
  },
  {
   "cell_type": "code",
   "execution_count": 7,
   "metadata": {},
   "outputs": [],
   "source": [
    "mongoClient = MongoClient(\"34.65.31.186\", 27017,\n",
    "                username=\"anino\", password=\"StrongPassword!\",\n",
    "                authSource=\"admin\")"
   ]
  },
  {
   "cell_type": "code",
   "execution_count": 10,
   "metadata": {},
   "outputs": [],
   "source": [
    "db_name = \"tweet_data_test\"\n",
    "db = mongoClient[db_name]"
   ]
  },
  {
   "cell_type": "code",
   "execution_count": 11,
   "metadata": {},
   "outputs": [
    {
     "data": {
      "text/plain": [
       "Database(MongoClient(host=['34.65.31.186:27017'], document_class=dict, tz_aware=False, connect=True, authsource='admin'), 'tweet_data_test')"
      ]
     },
     "execution_count": 11,
     "metadata": {},
     "output_type": "execute_result"
    }
   ],
   "source": [
    "db"
   ]
  },
  {
   "cell_type": "code",
   "execution_count": 13,
   "metadata": {},
   "outputs": [],
   "source": [
    "res = db[\"test\"].insert_one(dict(a=5,b=3))"
   ]
  },
  {
   "cell_type": "code",
   "execution_count": 15,
   "metadata": {},
   "outputs": [
    {
     "data": {
      "text/plain": [
       "ObjectId('5f969e8f32acd46df3b582f3')"
      ]
     },
     "execution_count": 15,
     "metadata": {},
     "output_type": "execute_result"
    }
   ],
   "source": [
    "res.inserted_id"
   ]
  },
  {
   "cell_type": "code",
   "execution_count": null,
   "metadata": {},
   "outputs": [],
   "source": []
  }
 ],
 "metadata": {
  "kernelspec": {
   "display_name": "Python 3",
   "language": "python",
   "name": "python3"
  },
  "language_info": {
   "codemirror_mode": {
    "name": "ipython",
    "version": 3
   },
   "file_extension": ".py",
   "mimetype": "text/x-python",
   "name": "python",
   "nbconvert_exporter": "python",
   "pygments_lexer": "ipython3",
   "version": "3.7.5"
  }
 },
 "nbformat": 4,
 "nbformat_minor": 4
}
